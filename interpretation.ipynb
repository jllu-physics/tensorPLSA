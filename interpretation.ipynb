{
 "cells": [
  {
   "cell_type": "code",
   "execution_count": 1,
   "id": "f3969a47",
   "metadata": {},
   "outputs": [],
   "source": [
    "import numpy as np\n",
    "import matplotlib.pyplot as plt\n",
    "import tensor_PLSA_sparse as tPLSA\n",
    "import preprocessing as pre\n",
    "from sklearn.metrics import roc_auc_score"
   ]
  },
  {
   "cell_type": "code",
   "execution_count": 2,
   "id": "5e1fef8a",
   "metadata": {},
   "outputs": [],
   "source": [
    "np.random.seed(1)\n",
    "path2data = \"./wiki-RfA.txt\"\n",
    "threshold = 20\n",
    "ftrain, fvalid, valid, test, user_dic, word2index = pre.prepare_data(path2data, threshold=threshold, return_dicts = True)"
   ]
  },
  {
   "cell_type": "code",
   "execution_count": 3,
   "id": "b197607f",
   "metadata": {},
   "outputs": [],
   "source": [
    "ftrain_counts = np.ones(len(ftrain))\n",
    "valid_srcs, valid_tgts, valid_vots, valid_cmts = valid\n",
    "test_srcs, test_tgts, test_vots, test_cmts = test"
   ]
  },
  {
   "cell_type": "code",
   "execution_count": 4,
   "id": "85150cd7",
   "metadata": {},
   "outputs": [],
   "source": [
    "def predict(model, src, tgt, cmt):\n",
    "    like = np.log(model.p_z+1e-32)\n",
    "    like += np.log(model.factors[0][src]+1e-32)\n",
    "    like += np.log(model.factors[1][tgt]+1e-32)\n",
    "    for word in cmt:\n",
    "        like += np.log(model.factors[3][word]+1e-32)\n",
    "    like -= like.max()\n",
    "    p = np.exp(like)\n",
    "    p = p.dot(model.factors[2].T)\n",
    "    p /= p.sum()\n",
    "    return p"
   ]
  },
  {
   "cell_type": "code",
   "execution_count": 5,
   "id": "d81d44d7",
   "metadata": {},
   "outputs": [],
   "source": [
    "def predict_set(model, srcs, tgts, cmts):\n",
    "    Ntest = len(srcs)\n",
    "    ps = np.zeros((Ntest,3))\n",
    "    for i in range(len(srcs)):\n",
    "        ps[i] = predict(model, srcs[i], tgts[i], cmts[i])\n",
    "    return ps"
   ]
  },
  {
   "cell_type": "code",
   "execution_count": 6,
   "id": "2725ae19",
   "metadata": {},
   "outputs": [],
   "source": [
    "def assess_roc(model, srcs, tgts, vots, cmts):\n",
    "    ps = predict_set(model, srcs, tgts, cmts)\n",
    "    pred = np.argmax(ps,axis=1)\n",
    "    #return roc_auc_score(vots, ps, average = \"macro\", multi_class='ovo')\n",
    "    index_binary = [i for i in range(len(vots)) if vots[i] != 1]\n",
    "    labels = [vots[i]//2 for i in index_binary]\n",
    "    prob_binary = ps[index_binary][:,[0,2]]\n",
    "    prob_binary /= prob_binary.sum(axis=1, keepdims=True)\n",
    "    #print(\"roc score (including neutral): \", roc_auc_score(indices_test[:,-1], probs, average = \"macro\", multi_class='ovo'))\n",
    "    return roc_auc_score(labels, prob_binary[:,1], average = \"macro\")"
   ]
  },
  {
   "cell_type": "code",
   "execution_count": 7,
   "id": "99aa6e5e",
   "metadata": {},
   "outputs": [
    {
     "name": "stdout",
     "output_type": "stream",
     "text": [
      "0.6119118879746035\n",
      "0.7710789933593936\n",
      "0.8420579358424606\n",
      "0.867143559052957\n",
      "0.8786729624248989\n",
      "0.8856998040778118\n",
      "0.890696493781094\n",
      "0.8936736506235379\n",
      "0.8947616307271775\n",
      "0.8955524805578778\n"
     ]
    }
   ],
   "source": [
    "ntfmp =  tPLSA.Tensor_PLSA_Sparse(4,n_proc=12)\n",
    "shape = (11381, 11381, 3, ftrain.max(axis=0)[-1]+1)\n",
    "ntfmp.initialize_parameter(\"random\", shape)\n",
    "ntfmp.prepare_fitting()\n",
    "rocs = []\n",
    "for i in range(10):\n",
    "    ntfmp.optimize_once(ftrain, ftrain_counts, True)\n",
    "    rocs.append(assess_roc(ntfmp, valid_srcs, valid_tgts, valid_vots, valid_cmts))\n",
    "    if i > 1 and rocs[-1] < rocs[-2] and rocs[-2] < rocs[-3]:\n",
    "        break\n",
    "    print(rocs[-1])"
   ]
  },
  {
   "cell_type": "code",
   "execution_count": 44,
   "id": "acb74fcd",
   "metadata": {},
   "outputs": [
    {
     "data": {
      "text/plain": [
       "0.9044802623475401"
      ]
     },
     "execution_count": 44,
     "metadata": {},
     "output_type": "execute_result"
    }
   ],
   "source": [
    "assess_roc(ntfmp, test_srcs, test_tgts, test_vots, test_cmts)"
   ]
  },
  {
   "cell_type": "code",
   "execution_count": 8,
   "id": "e00a76b1",
   "metadata": {},
   "outputs": [],
   "source": [
    "index = 0\n",
    "line_number = 0\n",
    "vote_tensor = np.zeros((len(user_dic), len(user_dic), 3))\n",
    "with open(\"./wiki-RfA.txt\") as file:\n",
    "    for raw_line in file:\n",
    "        line = raw_line.rstrip()\n",
    "        if index == 0:\n",
    "            src = user_dic[line[4:]]\n",
    "        if index == 1:\n",
    "            tgt = user_dic[line[4:]]\n",
    "        if index == 2:\n",
    "            vot = int(line[4:])+1\n",
    "            vote_tensor[src,tgt,vot] += 1\n",
    "        index += 1\n",
    "        if index == 8:\n",
    "            index = 0\n",
    "        line_number += 1"
   ]
  },
  {
   "cell_type": "code",
   "execution_count": 9,
   "id": "75d3453f",
   "metadata": {},
   "outputs": [],
   "source": [
    "word_list = [None,]*len(word2index)\n",
    "for word in word2index:\n",
    "    word_list[word2index[word]] = word"
   ]
  },
  {
   "cell_type": "code",
   "execution_count": 10,
   "id": "3c1ff120",
   "metadata": {},
   "outputs": [],
   "source": [
    "user_list = [None,]*len(user_dic)\n",
    "for user in user_dic:\n",
    "    user_list[user_dic[user]] = user"
   ]
  },
  {
   "cell_type": "code",
   "execution_count": 11,
   "id": "3cfda14b",
   "metadata": {},
   "outputs": [],
   "source": [
    "user_freq = np.sum(ntfmp.factors[0]+ntfmp.factors[1],axis=1)\n",
    "user_freq /= user_freq.sum()"
   ]
  },
  {
   "cell_type": "code",
   "execution_count": 12,
   "id": "fe63c762",
   "metadata": {},
   "outputs": [],
   "source": [
    "src_freq = np.sum(ntfmp.factors[0],axis=1)\n",
    "src_freq /= src_freq.sum()\n",
    "src_contrasts = ntfmp.factors[0]/(src_freq.reshape(-1,1)+1e-10)"
   ]
  },
  {
   "cell_type": "code",
   "execution_count": 13,
   "id": "414894ef",
   "metadata": {},
   "outputs": [],
   "source": [
    "min_freq = 5e-4\n",
    "min_contrast = 3.5"
   ]
  },
  {
   "cell_type": "code",
   "execution_count": 14,
   "id": "c697d8c4",
   "metadata": {},
   "outputs": [
    {
     "data": {
      "text/plain": [
       "[['Khoikhoi', 1.9446640316205535, 1.5748792270523795],\n",
       " ['Thingg', 1.9672131147540983, 1.685185185184405],\n",
       " ['Vilerage', 1.8793103448275863, 0.0],\n",
       " ['Candlewicke', 1.9014084507042253, 0.0],\n",
       " ['Wezzo', 1.9156626506024097, 0.0],\n",
       " ['Anonymous anonymous', 1.7076923076923076, 0.0]]"
      ]
     },
     "execution_count": 14,
     "metadata": {},
     "output_type": "execute_result"
    }
   ],
   "source": [
    "group = 0\n",
    "[[user_list[x], vote_tensor[x].dot([0,1,2]).sum()/vote_tensor[x].sum(), vote_tensor[:,x].dot([0,1,2]).sum()/(vote_tensor[:,x].sum()+1e-10)] for x in np.argsort(-user_freq) if src_freq[x] > min_freq and src_contrasts[x,group]>min_contrast]"
   ]
  },
  {
   "cell_type": "code",
   "execution_count": 15,
   "id": "efcd2fa4",
   "metadata": {},
   "outputs": [
    {
     "data": {
      "text/plain": [
       "[['Linuxbeak', 1.5568181818181819, 1.8199999999963599],\n",
       " ['Milomedes', 0.6666666666666666, 0.0]]"
      ]
     },
     "execution_count": 15,
     "metadata": {},
     "output_type": "execute_result"
    }
   ],
   "source": [
    "group = 1\n",
    "[[user_list[x], vote_tensor[x].dot([0,1,2]).sum()/vote_tensor[x].sum(), vote_tensor[:,x].dot([0,1,2]).sum()/(vote_tensor[:,x].sum()+1e-10)] for x in np.argsort(-user_freq) if src_freq[x] > min_freq and src_contrasts[x,group]>min_contrast]"
   ]
  },
  {
   "cell_type": "code",
   "execution_count": 16,
   "id": "fdf8020f",
   "metadata": {},
   "outputs": [
    {
     "data": {
      "text/plain": [
       "[['Nsk92', 1.1074380165289257, 0.0],\n",
       " ['Badger Drink', 0.41379310344827586, 0.0]]"
      ]
     },
     "execution_count": 16,
     "metadata": {},
     "output_type": "execute_result"
    }
   ],
   "source": [
    "group = 2\n",
    "[[user_list[x], vote_tensor[x].dot([0,1,2]).sum()/vote_tensor[x].sum(), vote_tensor[:,x].dot([0,1,2]).sum()/(vote_tensor[:,x].sum()+1e-10)] for x in np.argsort(-user_freq) if src_freq[x] > min_freq and src_contrasts[x,group]>min_contrast]"
   ]
  },
  {
   "cell_type": "code",
   "execution_count": 17,
   "id": "ba7c6b59",
   "metadata": {},
   "outputs": [
    {
     "data": {
      "text/plain": [
       "[['Walton One', 1.8345323741007193, 1.4972375690599464],\n",
       " ['Redwolf24', 1.813664596273292, 1.6999999999971667]]"
      ]
     },
     "execution_count": 17,
     "metadata": {},
     "output_type": "execute_result"
    }
   ],
   "source": [
    "group = 3\n",
    "[[user_list[x], vote_tensor[x].dot([0,1,2]).sum()/vote_tensor[x].sum(), vote_tensor[:,x].dot([0,1,2]).sum()/(vote_tensor[:,x].sum()+1e-10)] for x in np.argsort(-user_freq) if src_freq[x] > min_freq and src_contrasts[x,group]>min_contrast]"
   ]
  },
  {
   "cell_type": "code",
   "execution_count": 18,
   "id": "888fb80e",
   "metadata": {},
   "outputs": [],
   "source": [
    "tgt_freq = np.sum(ntfmp.factors[1],axis=1)\n",
    "tgt_freq /= tgt_freq.sum()\n",
    "tgt_contrasts = ntfmp.factors[1]/(tgt_freq.reshape(-1,1)+1e-10)"
   ]
  },
  {
   "cell_type": "code",
   "execution_count": 19,
   "id": "a1c28cef",
   "metadata": {},
   "outputs": [
    {
     "data": {
      "text/plain": [
       "[['Dlohcierekim', 1.5869894099846311, 1.8589743589719756],\n",
       " ['Phantomsteve', 1.3181818181809624, 1.9821428571410873],\n",
       " ['Soap', 1.573170731706358, 1.999999999998895],\n",
       " ['Rjanag', 1.4772727272693698, 1.977777777776313],\n",
       " ['Tariqabjotu', 0.9999999999981481, 1.9606299212582987],\n",
       " ['Persian Poet Gal', 1.6976744186007031, 1.999999999998883],\n",
       " ['Abecedare', 1.511111111107753, 1.999999999998198],\n",
       " ['Jafeluv', 1.6164383561621691, 1.9397590361422412],\n",
       " ['Ucucha', 1.8064516128973986, 1.9495798319311348],\n",
       " ['Shubinator', 1.928571428557653, 1.8611111111093879],\n",
       " ['Luna Santin', 1.8928571428503829, 1.8857142857124898],\n",
       " ['Jake Wartenberg', 1.8088235294091046, 1.9803921568614509],\n",
       " ['Bellhalla', 0.0, 1.9915254237271258]]"
      ]
     },
     "execution_count": 19,
     "metadata": {},
     "output_type": "execute_result"
    }
   ],
   "source": [
    "group = 0\n",
    "[[user_list[x], vote_tensor[x].dot([0,1,2]).sum()/(vote_tensor[x].sum()+1e-10), vote_tensor[:,x].dot([0,1,2]).sum()/(vote_tensor[:,x].sum()+1e-10)] for x in np.argsort(-user_freq) if tgt_freq[x] > min_freq and tgt_contrasts[x,group]>min_contrast]"
   ]
  },
  {
   "cell_type": "code",
   "execution_count": 20,
   "id": "9aa6c7ef",
   "metadata": {},
   "outputs": [
    {
     "data": {
      "text/plain": [
       "[['MatthewFenton', 0.9655172413784779, 0.5172413793098989],\n",
       " ['Wizardry Dragon', 0.8571428571367347, 0.93999999999812]]"
      ]
     },
     "execution_count": 20,
     "metadata": {},
     "output_type": "execute_result"
    }
   ],
   "source": [
    "group = 1\n",
    "[[user_list[x], vote_tensor[x].dot([0,1,2]).sum()/(vote_tensor[x].sum()+1e-10), vote_tensor[:,x].dot([0,1,2]).sum()/(vote_tensor[:,x].sum()+1e-10)] for x in np.argsort(-user_freq) if tgt_freq[x] > min_freq and tgt_contrasts[x,group]>min_contrast]"
   ]
  },
  {
   "cell_type": "code",
   "execution_count": 21,
   "id": "9bdc4a10",
   "metadata": {},
   "outputs": [
    {
     "data": {
      "text/plain": [
       "[['ChildofMidnight', 1.6063829787216952, 0.29411764705824683],\n",
       " ['Dayewalker', 1.6363636363487604, 1.1746031746013101]]"
      ]
     },
     "execution_count": 21,
     "metadata": {},
     "output_type": "execute_result"
    }
   ],
   "source": [
    "group = 2\n",
    "[[user_list[x], vote_tensor[x].dot([0,1,2]).sum()/(vote_tensor[x].sum()+1e-10), vote_tensor[:,x].dot([0,1,2]).sum()/(vote_tensor[:,x].sum()+1e-10)] for x in np.argsort(-user_freq) if tgt_freq[x] > min_freq and tgt_contrasts[x,group]>min_contrast]"
   ]
  },
  {
   "cell_type": "code",
   "execution_count": 22,
   "id": "542f6567",
   "metadata": {},
   "outputs": [
    {
     "data": {
      "text/plain": [
       "[['BirgitteSB', 1.199999999992, 1.7333333333321779],\n",
       " ['RedirectCleanupBot', 0.0, 1.8052631578937868],\n",
       " ['SarahStierch', 1.9999999999666667, 1.9908675799077669]]"
      ]
     },
     "execution_count": 22,
     "metadata": {},
     "output_type": "execute_result"
    }
   ],
   "source": [
    "group = 3\n",
    "[[user_list[x], vote_tensor[x].dot([0,1,2]).sum()/(vote_tensor[x].sum()+1e-10), vote_tensor[:,x].dot([0,1,2]).sum()/(vote_tensor[:,x].sum()+1e-10)] for x in np.argsort(-user_freq) if tgt_freq[x] > min_freq and tgt_contrasts[x,group]>min_contrast]"
   ]
  },
  {
   "cell_type": "code",
   "execution_count": 23,
   "id": "a96ccb75",
   "metadata": {},
   "outputs": [
    {
     "data": {
      "text/plain": [
       "array([1.98045442, 0.57855358, 0.19867006, 1.84171467])"
      ]
     },
     "execution_count": 23,
     "metadata": {},
     "output_type": "execute_result"
    }
   ],
   "source": [
    "ntfmp.factors[2].T.dot([0,1,2])"
   ]
  },
  {
   "cell_type": "code",
   "execution_count": 24,
   "id": "82781139",
   "metadata": {},
   "outputs": [],
   "source": [
    "word_freq = np.sum(ntfmp.factors[3],axis=1)\n",
    "word_freq /= word_freq.sum()\n",
    "word_contrasts = ntfmp.factors[3]/(word_freq.reshape(-1,1)+1e-10)"
   ]
  },
  {
   "cell_type": "code",
   "execution_count": 25,
   "id": "41e57d00",
   "metadata": {},
   "outputs": [
    {
     "data": {
      "text/plain": [
       "0.06849475819016759"
      ]
     },
     "execution_count": 25,
     "metadata": {},
     "output_type": "execute_result"
    }
   ],
   "source": [
    "word_freq.max()"
   ]
  },
  {
   "cell_type": "code",
   "execution_count": 26,
   "id": "4d0c4016",
   "metadata": {},
   "outputs": [],
   "source": [
    "min_freq = 1e-4\n",
    "min_contrast = 2"
   ]
  },
  {
   "cell_type": "code",
   "execution_count": 27,
   "id": "85b30e4c",
   "metadata": {},
   "outputs": [],
   "source": [
    "lower_user_list = [name.lower() for name in user_list]"
   ]
  },
  {
   "cell_type": "code",
   "execution_count": 28,
   "id": "27f3078b",
   "metadata": {},
   "outputs": [
    {
     "data": {
      "text/plain": [
       "['font',\n",
       " 'color',\n",
       " '</font>',\n",
       " 'face',\n",
       " 'green',\n",
       " 'excellent',\n",
       " 'esperanza',\n",
       " 'luck',\n",
       " 'nom',\n",
       " '<b>',\n",
       " ':d',\n",
       " 'background',\n",
       " '<sup>',\n",
       " '</span>',\n",
       " ':)',\n",
       " 'trustworthy',\n",
       " 'black',\n",
       " 'blue',\n",
       " 'verdana',\n",
       " '<strong>',\n",
       " 'gold',\n",
       " 'georgia',\n",
       " '·',\n",
       " 'size',\n",
       " 'trebuchet',\n",
       " 'friendly',\n",
       " 'esp',\n",
       " 'arial',\n",
       " '</sup>',\n",
       " 'roman',\n",
       " 'dyk',\n",
       " 'orange',\n",
       " '</b>',\n",
       " '<i>',\n",
       " ';)',\n",
       " 'ter',\n",
       " 'small-caps',\n",
       " 'keeper',\n",
       " 'king',\n",
       " 'clueful',\n",
       " 'font-variant',\n",
       " 'ong',\n",
       " 'h',\n",
       " 'navy',\n",
       " '#ff0000',\n",
       " '27',\n",
       " '<big>',\n",
       " 'file',\n",
       " 'papyrus',\n",
       " 'giant',\n",
       " 'beat',\n",
       " '#082567',\n",
       " '#228b22',\n",
       " 'hús',\n",
       " '</sub>',\n",
       " 'spam',\n",
       " '20px',\n",
       " 'w',\n",
       " 'cursor',\n",
       " 'ton',\n",
       " '93',\n",
       " 'emailuser',\n",
       " 'ownload',\n",
       " 'awesome',\n",
       " '#7b68ee',\n",
       " 'master',\n",
       " 'mailer',\n",
       " 'co-nom',\n",
       " '#9966cc',\n",
       " '<u>',\n",
       " 'yep',\n",
       " 'arthvader',\n",
       " 'darthvad',\n",
       " '</big>']"
      ]
     },
     "execution_count": 28,
     "metadata": {},
     "output_type": "execute_result"
    }
   ],
   "source": [
    "group = 0\n",
    "[word_list[x] for x in np.argsort(-word_freq) if word_freq[x] > min_freq and word_contrasts[x,group]>min_contrast and word_list[x] not in lower_user_list]"
   ]
  },
  {
   "cell_type": "code",
   "execution_count": 29,
   "id": "747a2f93",
   "metadata": {},
   "outputs": [
    {
     "data": {
      "text/plain": [
       "['neutral',\n",
       " 'namespace',\n",
       " 'leaning',\n",
       " 'attack',\n",
       " 'panda',\n",
       " 'ignore',\n",
       " 'rfc',\n",
       " 'deletionist',\n",
       " 'dgg']"
      ]
     },
     "execution_count": 29,
     "metadata": {},
     "output_type": "execute_result"
    }
   ],
   "source": [
    "group = 1\n",
    "[word_list[x] for x in np.argsort(-word_freq) if word_freq[x] > min_freq and word_contrasts[x,group]>min_contrast]"
   ]
  },
  {
   "cell_type": "code",
   "execution_count": 30,
   "id": "9552edf3",
   "metadata": {},
   "outputs": [
    {
     "data": {
      "text/plain": [
       "['sorry',\n",
       " 'poor',\n",
       " 'blp',\n",
       " 'withdraw',\n",
       " 'unfortunately',\n",
       " 'six',\n",
       " 'recommend',\n",
       " 'ip',\n",
       " 'notnow',\n",
       " 'snow',\n",
       " 'admin-related',\n",
       " '0.118',\n",
       " 'withdrawal',\n",
       " 'insufficient',\n",
       " 'closure',\n",
       " 'misunderstanding',\n",
       " 'wisdom',\n",
       " 'warring',\n",
       " 'a7',\n",
       " 'closed',\n",
       " 'enthusiasm',\n",
       " 'canvassing']"
      ]
     },
     "execution_count": 30,
     "metadata": {},
     "output_type": "execute_result"
    }
   ],
   "source": [
    "group = 2\n",
    "[word_list[x] for x in np.argsort(-word_freq) if word_freq[x] > min_freq and word_contrasts[x,group]>min_contrast]"
   ]
  },
  {
   "cell_type": "code",
   "execution_count": 31,
   "id": "9dcca312",
   "metadata": {},
   "outputs": [
    {
     "data": {
      "text/plain": [
       "['abuse',\n",
       " '1px',\n",
       " ';p',\n",
       " 'unlikely',\n",
       " 'sensible',\n",
       " '#0000ff',\n",
       " ':-)',\n",
       " '..',\n",
       " 'competent',\n",
       " 'intelligent',\n",
       " 'font-weight',\n",
       " 'pleasure',\n",
       " 'sans-serif',\n",
       " '2010',\n",
       " '0.2']"
      ]
     },
     "execution_count": 31,
     "metadata": {},
     "output_type": "execute_result"
    }
   ],
   "source": [
    "group = 3\n",
    "[word_list[x] for x in np.argsort(-word_freq) if word_freq[x] > min_freq and word_contrasts[x,group]>min_contrast]"
   ]
  },
  {
   "cell_type": "code",
   "execution_count": 32,
   "id": "076361af",
   "metadata": {},
   "outputs": [],
   "source": [
    "sclass = (ntfmp.factors[0]*ntfmp.p_z).argmax(axis=1)\n",
    "tclass = (ntfmp.factors[1]*ntfmp.p_z).argmax(axis=1)\n",
    "Pvclass = ntfmp.factors[2]*ntfmp.p_z\n",
    "Pwclass = ntfmp.factors[3]*ntfmp.p_z\n",
    "wclass = Pwclass.argmax(axis=1)"
   ]
  },
  {
   "cell_type": "code",
   "execution_count": 33,
   "id": "20dd4dcc",
   "metadata": {},
   "outputs": [],
   "source": [
    "class_vot = np.zeros((4,4,3))\n",
    "for i in range(len(test_srcs)):\n",
    "    src_class = sclass[test_srcs[i]]\n",
    "    tgt_class = tclass[test_tgts[i]]\n",
    "    vot_class = test_vots[i]\n",
    "    class_vot[src_class, tgt_class, vot_class] += 1"
   ]
  },
  {
   "cell_type": "code",
   "execution_count": 34,
   "id": "60f208fc",
   "metadata": {},
   "outputs": [
    {
     "data": {
      "text/plain": [
       "array([[1.92124959, 1.3675019 , 1.14261745, 1.79714605],\n",
       "       [1.68237573, 0.94019139, 0.7340604 , 1.49496457],\n",
       "       [1.7468161 , 0.88799283, 0.63603473, 1.50893277],\n",
       "       [1.87267081, 1.35100619, 1.10285714, 1.81123269]])"
      ]
     },
     "execution_count": 34,
     "metadata": {},
     "output_type": "execute_result"
    }
   ],
   "source": [
    "class_vot.dot([0,1,2])/class_vot.sum(axis=2)"
   ]
  },
  {
   "cell_type": "code",
   "execution_count": 35,
   "id": "d3656dd0",
   "metadata": {},
   "outputs": [
    {
     "data": {
      "text/plain": [
       "array([[ 3073.,  1317.,  1788.,  3574.],\n",
       "       [ 1549.,  1254.,  1192.,  2681.],\n",
       "       [ 1963.,  1116.,  2764.,  4254.],\n",
       "       [ 3542.,  2584.,  3850., 13069.]])"
      ]
     },
     "execution_count": 35,
     "metadata": {},
     "output_type": "execute_result"
    }
   ],
   "source": [
    "class_vot.sum(axis=2)"
   ]
  },
  {
   "cell_type": "code",
   "execution_count": 47,
   "id": "6b35f0ee",
   "metadata": {},
   "outputs": [
    {
     "data": {
      "text/plain": [
       "Text(0.5, 1.0, 'Average Vote Score')"
      ]
     },
     "execution_count": 47,
     "metadata": {},
     "output_type": "execute_result"
    },
    {
     "data": {
      "image/png": "[encoded data removed]",
      "text/plain": [
       "<Figure size 640x480 with 2 Axes>"
      ]
     },
     "metadata": {},
     "output_type": "display_data"
    }
   ],
   "source": [
    "plt.imshow(class_vot.dot([0,1,2])/class_vot.sum(axis=2))\n",
    "plt.colorbar()\n",
    "plt.ylabel('Source Class Index')\n",
    "plt.xticks([0,1,2,3],[1,2,3,4])\n",
    "plt.xlabel('Target Class Index')\n",
    "plt.yticks([0,1,2,3],[1,2,3,4])\n",
    "plt.title('Average Vote Score')"
   ]
  },
  {
   "cell_type": "code",
   "execution_count": null,
   "id": "b93043bc",
   "metadata": {},
   "outputs": [],
   "source": []
  }
 ],
 "metadata": {
  "kernelspec": {
   "display_name": "Python 3 (ipykernel)",
   "language": "python",
   "name": "python3"
  },
  "language_info": {
   "codemirror_mode": {
    "name": "ipython",
    "version": 3
   },
   "file_extension": ".py",
   "mimetype": "text/x-python",
   "name": "python",
   "nbconvert_exporter": "python",
   "pygments_lexer": "ipython3",
   "version": "3.9.13"
  }
 },
 "nbformat": 4,
 "nbformat_minor": 5
}
